{
  "nbformat": 4,
  "nbformat_minor": 0,
  "metadata": {
    "colab": {
      "name": "Tarea-6.ipynb",
      "provenance": [],
      "authorship_tag": "ABX9TyO0lor3aaG3nm53Jv3CtNiS",
      "include_colab_link": true
    },
    "kernelspec": {
      "name": "python3",
      "display_name": "Python 3"
    },
    "language_info": {
      "name": "python"
    }
  },
  "cells": [
    {
      "cell_type": "markdown",
      "metadata": {
        "id": "view-in-github",
        "colab_type": "text"
      },
      "source": [
        "<a href=\"https://colab.research.google.com/github/josedalvik/datascience_python1_tarea6/blob/main/Tarea_6.ipynb\" target=\"_parent\"><img src=\"https://colab.research.google.com/assets/colab-badge.svg\" alt=\"Open In Colab\"/></a>"
      ]
    },
    {
      "cell_type": "markdown",
      "source": [
        "# Clase 7"
      ],
      "metadata": {
        "id": "DuGG4ltE9Cjr"
      }
    },
    {
      "cell_type": "markdown",
      "source": [
        "Ejercicio: Investigar y ejemplificar diferencias entre np.array y np.matrix"
      ],
      "metadata": {
        "id": "NzjpbBm37-oF"
      }
    },
    {
      "cell_type": "code",
      "execution_count": 2,
      "metadata": {
        "colab": {
          "base_uri": "https://localhost:8080/"
        },
        "id": "5OGJYkBv78qP",
        "outputId": "90707888-8df6-4985-abe9-75a29b4b2d8e"
      },
      "outputs": [
        {
          "output_type": "stream",
          "name": "stdout",
          "text": [
            "Las matrices son bidimencionales:\n",
            "[[1 2]\n",
            " [3 4]]\n",
            "Las matrices son subtipo de los array, es decir heredan sus funciones.\n",
            "(2, 2)\n",
            "La matriz como tal tiene la función de obtener su inversa, utilizando notación simple.\n",
            "[[-2.   1. ]\n",
            " [ 1.5 -0.5]]\n",
            "Los arrays son vectores n-dimensionales, utilizan funciones más generales.\n",
            "[[[1 2]\n",
            "  [3 4]]\n",
            "\n",
            " [[5 6]\n",
            "  [7 8]]]\n",
            "3\n",
            "(2, 2, 2)\n",
            "Los arrays soportan operaciones n-dimensionales algebraicas\n",
            "[[[ 2  4]\n",
            "  [ 6  8]]\n",
            "\n",
            " [[10 12]\n",
            "  [14 16]]]\n",
            "Los arrays son el estandar de vectores o tensores utilizados por numpy.\n",
            "[[[[ 14  20]\n",
            "   [ 38  44]]\n",
            "\n",
            "  [[ 30  44]\n",
            "   [ 86 100]]]\n",
            "\n",
            "\n",
            " [[[ 46  68]\n",
            "   [134 156]]\n",
            "\n",
            "  [[ 62  92]\n",
            "   [182 212]]]]\n"
          ]
        }
      ],
      "source": [
        "# Diferencias entre np.array y np.matrix\n",
        "\n",
        "import numpy as np\n",
        "\n",
        "print(\"Las matrices son bidimencionales:\")\n",
        "m = np.matrix([[1, 2], [3, 4]])\n",
        "print(m)\n",
        "\n",
        "print(\"Las matrices son subtipo de los array, es decir heredan sus funciones.\")\n",
        "print(m.shape)\n",
        "\n",
        "print(\"La matriz como tal tiene la función de obtener su inversa, utilizando notación simple.\")\n",
        "print(m.I)\n",
        "\n",
        "print(\"Los arrays son vectores n-dimensionales, utilizan funciones más generales.\")\n",
        "r = np.array([[[1, 2], [3, 4]],[[5, 6], [7, 8]]])\n",
        "print(r)\n",
        "print(r.ndim)\n",
        "print(r.shape)\n",
        "\n",
        "print(\"Los arrays soportan operaciones n-dimensionales algebraicas\")\n",
        "r2 = r*2\n",
        "print(r2)\n",
        "\n",
        "print(\"Los arrays son el estandar de vectores o tensores utilizados por numpy.\")\n",
        "print(np.dot(r, r2))"
      ]
    },
    {
      "cell_type": "markdown",
      "source": [
        "# Clase 8"
      ],
      "metadata": {
        "id": "RTvgY_pk8_DN"
      }
    },
    {
      "cell_type": "markdown",
      "source": [
        "# New Section\n",
        "\n",
        "**Ejemplo en DS** : en inteligencia artificial y ML en la sub-rama \"reinforcement learning\" la \"ecuacion de bellman\" puede aplicarse de manera vectorizada a traves del operar vectores, matrices y escalares en una sola expresión.\n",
        "\n",
        "<img src=\"https://rebornhugo.github.io/assets/images/post_images/%E5%BC%BA%E5%8C%96%E5%AD%A6%E4%B9%A02/bellman%20equation2.PNG\">\n",
        "\n",
        "* n = número de estados del sistema.\n",
        "* V(s) = vector que representa el valor esperado para cierto estado\n",
        "* R = recompensa inmediata percibida por el agente al salir de cierto estado.(vector)\n",
        "* P = matriz de transicion de la cadena de Markov sub-yacente.(matriz)\n",
        "* γ = factor de descuento de recompensas futuras(escalar)\n",
        "\n",
        "Calcular V(s) para el siguiente sistema aplicando la ecuación de bellman de manera vectorizada."
      ],
      "metadata": {
        "id": "uV0O6zKH897g"
      }
    },
    {
      "cell_type": "code",
      "source": [
        "#Ejercicio \n",
        "\n",
        "import numpy as np\n",
        "V = np.array([0,0,0]) # valor inicial de V(s)\n",
        "R = np.array([10,2,5]) # vector de recompensas\n",
        "P = np.array([[0.5,0.25,0.25],\n",
        "              [0.2,0.40,0.40],\n",
        "              [0.80,0.10,0.10]])  # matriz de transición\n",
        "gamma = 0.99\n",
        "\n",
        "Vs = R + ( gamma * P * V )\n",
        "print(Vs)"
      ],
      "metadata": {
        "colab": {
          "base_uri": "https://localhost:8080/"
        },
        "id": "lNlPXLZ99F5l",
        "outputId": "ab939565-9dc2-47a2-8ebb-988531aa2f31"
      },
      "execution_count": 3,
      "outputs": [
        {
          "output_type": "stream",
          "name": "stdout",
          "text": [
            "[[10.  2.  5.]\n",
            " [10.  2.  5.]\n",
            " [10.  2.  5.]]\n"
          ]
        }
      ]
    },
    {
      "cell_type": "markdown",
      "source": [
        "**Ejercicio aplicado en DS**\n",
        "Se tiene una red neuronal sencilla(y simplificada) como la de la siguiente imagen:\n",
        "<img src=\"https://www.oreilly.com/library/view/practical-convolutional-neural/9781788392303/assets/246151fb-7893-448d-b9bb-7a87b387a24b.png\">\n",
        "\n",
        "Donde:\n",
        "* INPUT LAYER: un vector X de tamaño = 2 que representa los datos de entrada\n",
        "* HIDDEN_LAYER :capa oculta con 2 neuronas definidas por los vectores:\n",
        "    * HL1 = [0.25,0.37]\n",
        "    * HL2 = [-8,14]\n",
        "* OUTPUT_LAYER = capa de salida definida por el vector [4,9]\n",
        "\n",
        "Crear una funcion neural_network(X) para calcular:\n",
        "* Calcule la salida de cada neurona en la capa intermedia aplicada a la capa de entrada.\n",
        "* Use el resultado del paso anterior como entrada para la neurona en la capa de salida\n",
        "\n",
        "Utilizando multiplicación de matrices se debe calcular para cada fila de la matriz de entrada X el valor de las neuronas de la capa intermedia, esto producirá una nueva matriz con el mismo número de filas que X y 2 columnas(1 para cada neurona) , a  los valores de esta matriz se les debe aplicar la función \"sigmoid\"(descrita a continuación) para limitarlos al intervalo de 0 a 1, esto produce una matriz del mismo tamaño pero con valores entre 0 a 1, esta matriz se multiplica matricialmente por la matriz que representa los pesos de la capa de salida  y este proceso produce un nuevo tensor al cual se debe aplicar nuevamente la función sigmoid. El resultado debe ser un tensor con el mismo número de filas que la matriz X y una sola columna(una predicción para cada fila de X.\n",
        "\n",
        "<img src=\"https://cdn-images-1.medium.com/max/1600/1*Xu7B5y9gp0iL5ooBj7LtWw.png\">"
      ],
      "metadata": {
        "id": "zkcuYwFY9PXC"
      }
    },
    {
      "cell_type": "code",
      "source": [
        "def sigmoid(x): #convertir los valores de x al rango de 0 a 1\n",
        "    \n",
        "    return 1/(1+np.exp(-x))\n",
        "\n",
        "H1_W = np.array([[0.25,-8],\n",
        "                 [0.37,14]])\n",
        "OL_W = np.array([[4],[9]])\n",
        "\n",
        "X =  np.array([[0.1,0.2],\n",
        "               [1,2]])\n",
        "\n",
        "H1 = np.matmul(X,H1_W)\n",
        "H1 = sigmoid(H1)  # funcion de activacion: convertir a valores en el intervalo de 0 a 1\n",
        "OL = np.matmul(H1,OL_W)\n",
        "OL = sigmoid(OL)  # funcion de activacion: convertir a valores en el intervalo de 0 a 1\n",
        "\n",
        "\n",
        "print(OL)"
      ],
      "metadata": {
        "colab": {
          "base_uri": "https://localhost:8080/"
        },
        "id": "GnMUcizE9T9U",
        "outputId": "5da7a714-c49d-4281-d722-448629184404"
      },
      "execution_count": 5,
      "outputs": [
        {
          "output_type": "stream",
          "name": "stdout",
          "text": [
            "[[0.99995577]\n",
            " [0.99999332]]\n"
          ]
        }
      ]
    },
    {
      "cell_type": "markdown",
      "source": [
        "### Ejercicio \n",
        "\n",
        "Implementar en una funcion neural_network(X) la red neuronal definida por la siguiente arquitectura:\n",
        "\n",
        "<img src=\"http://i.imgur.com/UNlffE1.png\">\n",
        "\n",
        "Podemos validar si fue correctamente implementada si usamos como entrada el vector x=[1,1] . Debemos obtener el resultado mostrado en la imagen.\n",
        "\n",
        "Una vez tenemos la implementacion correcta, cambiar la funcion de activacion de la capa de salida por la funcion de activacion ReLu(https://en.wikipedia.org/wiki/Rectifier_(neural_networks)):\n",
        "\n",
        "<img src=\"https://cdn-images-1.medium.com/max/1600/1*DfMRHwxY1gyyDmrIAd-gjQ.png\">\n",
        "\n",
        "Luego evaluar la red neuronal sobre la matriz de datos X(de manera vectorizada):"
      ],
      "metadata": {
        "id": "aXSuTiDK9agz"
      }
    },
    {
      "cell_type": "code",
      "source": [
        "import numpy as np\n",
        "\n",
        "X = np.array([\n",
        "    [0.1,2],\n",
        "    [0.3,0.45],\n",
        "    [5,9],\n",
        "    [12,6],\n",
        "    [7,5],\n",
        "    [0.3,0.8],\n",
        "    [12,5],\n",
        "    [100,200],\n",
        "    [7,8],\n",
        "    [300,1500]])\n",
        "\n",
        "def ReLu(x):\n",
        "  return np.piecewise(x, [x < 0, x >= 0], [ lambda x:0, lambda x: x ])\n",
        "\n",
        "def neural_network(x, funcion_de_activacion):\n",
        "  H_W = np.array([[0.712, 0.355, 0.268], [0.112, 0.855, 0.468]])\n",
        "  OL_W = np.array([[0.116], [0.329], [0.708]])\n",
        "\n",
        "  H1 = np.matmul(x, H_W)\n",
        "  H1 = funcion_de_activacion(H1)\n",
        "\n",
        "  OL = np.matmul(H1, OL_W)\n",
        "  OL = funcion_de_activacion(OL)\n",
        "\n",
        "  return OL\n",
        "\n",
        "a =  np.array([[1, 1]])\n",
        "print(\"Prueba inicial: \", neural_network(a, sigmoid))\n",
        "print(\"Prueba final: \", neural_network(X, ReLu))"
      ],
      "metadata": {
        "colab": {
          "base_uri": "https://localhost:8080/"
        },
        "id": "bjx4JFCn9gXh",
        "outputId": "6f56cc6b-1536-4ff9-b1d3-32e00b9b819c"
      },
      "execution_count": 6,
      "outputs": [
        {
          "output_type": "stream",
          "name": "stdout",
          "text": [
            "Prueba inicial:  [[0.69269553]]\n",
            "Prueba final:  [[1.2901751e+00]\n",
            " [3.9827325e-01]\n",
            " [7.5763340e+00]\n",
            " [8.4233580e+00]\n",
            " [5.8520720e+00]\n",
            " [6.1724410e-01]\n",
            " [7.7977270e+00]\n",
            " [1.6403930e+02]\n",
            " [7.7289650e+00]\n",
            " [1.0551858e+03]]\n"
          ]
        }
      ]
    },
    {
      "cell_type": "code",
      "source": [
        ""
      ],
      "metadata": {
        "id": "2kx6l1OV_Vfy"
      },
      "execution_count": null,
      "outputs": []
    }
  ]
}